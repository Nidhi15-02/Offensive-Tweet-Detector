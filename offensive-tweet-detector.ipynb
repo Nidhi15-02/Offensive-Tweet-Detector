{
 "cells": [
  {
   "cell_type": "code",
   "execution_count": 1,
   "id": "080d70be",
   "metadata": {
    "execution": {
     "iopub.execute_input": "2022-01-06T06:05:43.734270Z",
     "iopub.status.busy": "2022-01-06T06:05:43.729082Z",
     "iopub.status.idle": "2022-01-06T06:06:07.682125Z",
     "shell.execute_reply": "2022-01-06T06:06:07.681302Z",
     "shell.execute_reply.started": "2022-01-05T12:31:47.438533Z"
    },
    "papermill": {
     "duration": 23.991715,
     "end_time": "2022-01-06T06:06:07.682363",
     "exception": false,
     "start_time": "2022-01-06T06:05:43.690648",
     "status": "completed"
    },
    "tags": []
   },
   "outputs": [
    {
     "name": "stdout",
     "output_type": "stream",
     "text": [
      "Collecting contractions\r\n",
      "  Downloading contractions-0.0.58-py2.py3-none-any.whl (8.0 kB)\r\n",
      "Collecting textsearch>=0.0.21\r\n",
      "  Downloading textsearch-0.0.21-py2.py3-none-any.whl (7.5 kB)\r\n",
      "Collecting pyahocorasick\r\n",
      "  Downloading pyahocorasick-1.4.2.tar.gz (321 kB)\r\n",
      "     |████████████████████████████████| 321 kB 902 kB/s            \r\n",
      "\u001b[?25h  Preparing metadata (setup.py) ... \u001b[?25l-\b \b\\\b \bdone\r\n",
      "\u001b[?25hCollecting anyascii\r\n",
      "  Downloading anyascii-0.3.0-py3-none-any.whl (284 kB)\r\n",
      "     |████████████████████████████████| 284 kB 13.5 MB/s            \r\n",
      "\u001b[?25hBuilding wheels for collected packages: pyahocorasick\r\n",
      "  Building wheel for pyahocorasick (setup.py) ... \u001b[?25l-\b \b\\\b \b|\b \b/\b \bdone\r\n",
      "\u001b[?25h  Created wheel for pyahocorasick: filename=pyahocorasick-1.4.2-cp37-cp37m-linux_x86_64.whl size=106887 sha256=de3b434ea32db23cf2f92e12007d9858124e0a67b1ad86cf581a549044f92055\r\n",
      "  Stored in directory: /root/.cache/pip/wheels/25/19/a6/8f363d9939162782bb8439d886469756271abc01f76fbd790f\r\n",
      "Successfully built pyahocorasick\r\n",
      "Installing collected packages: pyahocorasick, anyascii, textsearch, contractions\r\n",
      "Successfully installed anyascii-0.3.0 contractions-0.0.58 pyahocorasick-1.4.2 textsearch-0.0.21\r\n",
      "\u001b[33mWARNING: Running pip as the 'root' user can result in broken permissions and conflicting behaviour with the system package manager. It is recommended to use a virtual environment instead: https://pip.pypa.io/warnings/venv\u001b[0m\r\n",
      "Note: you may need to restart the kernel to use updated packages.\n"
     ]
    }
   ],
   "source": [
    "%pip install contractions\n",
    "import numpy as np\n",
    "import pandas as pd\n",
    "import matplotlib.pyplot as plt\n",
    "import seaborn as sns\n",
    "import contractions\n",
    "import nltk\n",
    "from nltk.stem import WordNetLemmatizer\n",
    "from nltk.corpus import stopwords, wordnet\n",
    "import tensorflow as tf\n",
    "from tensorflow.keras import layers\n",
    "from tensorflow.keras.preprocessing.text import Tokenizer\n",
    "from tensorflow.keras.preprocessing.sequence import pad_sequences\n",
    "import tensorflow.keras.utils as ku"
   ]
  },
  {
   "cell_type": "code",
   "execution_count": 2,
   "id": "b11737b7",
   "metadata": {
    "execution": {
     "iopub.execute_input": "2022-01-06T06:06:07.769305Z",
     "iopub.status.busy": "2022-01-06T06:06:07.768257Z",
     "iopub.status.idle": "2022-01-06T06:06:07.965433Z",
     "shell.execute_reply": "2022-01-06T06:06:07.965943Z",
     "shell.execute_reply.started": "2022-01-05T12:31:55.889289Z"
    },
    "papermill": {
     "duration": 0.242118,
     "end_time": "2022-01-06T06:06:07.966117",
     "exception": false,
     "start_time": "2022-01-06T06:06:07.723999",
     "status": "completed"
    },
    "tags": []
   },
   "outputs": [
    {
     "name": "stdout",
     "output_type": "stream",
     "text": [
      "<class 'pandas.core.frame.DataFrame'>\n",
      "RangeIndex: 31962 entries, 0 to 31961\n",
      "Data columns (total 3 columns):\n",
      " #   Column  Non-Null Count  Dtype \n",
      "---  ------  --------------  ----- \n",
      " 0   id      31962 non-null  int64 \n",
      " 1   label   31962 non-null  int64 \n",
      " 2   tweet   31962 non-null  object\n",
      "dtypes: int64(2), object(1)\n",
      "memory usage: 749.2+ KB\n"
     ]
    },
    {
     "data": {
      "text/plain": [
       "None"
      ]
     },
     "metadata": {},
     "output_type": "display_data"
    },
    {
     "name": "stdout",
     "output_type": "stream",
     "text": [
      "product of the day: happy man #wine tool  who's   it's the #weekend? time to open up &amp; drink up!\n"
     ]
    }
   ],
   "source": [
    "train = pd.read_csv(\"../input/twitter-sentiment-analysis-hatred-speech/train.csv\")\n",
    "display(train.info())\n",
    "print(train[\"tweet\"][22])"
   ]
  },
  {
   "cell_type": "code",
   "execution_count": 3,
   "id": "d7b7f0cf",
   "metadata": {
    "execution": {
     "iopub.execute_input": "2022-01-06T06:06:08.053857Z",
     "iopub.status.busy": "2022-01-06T06:06:08.052998Z",
     "iopub.status.idle": "2022-01-06T06:06:08.074127Z",
     "shell.execute_reply": "2022-01-06T06:06:08.074637Z",
     "shell.execute_reply.started": "2022-01-05T12:31:55.975622Z"
    },
    "papermill": {
     "duration": 0.066556,
     "end_time": "2022-01-06T06:06:08.074809",
     "exception": false,
     "start_time": "2022-01-06T06:06:08.008253",
     "status": "completed"
    },
    "tags": []
   },
   "outputs": [
    {
     "data": {
      "text/html": [
       "<div>\n",
       "<style scoped>\n",
       "    .dataframe tbody tr th:only-of-type {\n",
       "        vertical-align: middle;\n",
       "    }\n",
       "\n",
       "    .dataframe tbody tr th {\n",
       "        vertical-align: top;\n",
       "    }\n",
       "\n",
       "    .dataframe thead th {\n",
       "        text-align: right;\n",
       "    }\n",
       "</style>\n",
       "<table border=\"1\" class=\"dataframe\">\n",
       "  <thead>\n",
       "    <tr style=\"text-align: right;\">\n",
       "      <th></th>\n",
       "      <th>label</th>\n",
       "      <th>tweet</th>\n",
       "    </tr>\n",
       "  </thead>\n",
       "  <tbody>\n",
       "    <tr>\n",
       "      <th>0</th>\n",
       "      <td>0</td>\n",
       "      <td>@user when a father is dysfunctional and is s...</td>\n",
       "    </tr>\n",
       "    <tr>\n",
       "      <th>1</th>\n",
       "      <td>0</td>\n",
       "      <td>@user @user thanks for #lyft credit i can't us...</td>\n",
       "    </tr>\n",
       "    <tr>\n",
       "      <th>2</th>\n",
       "      <td>0</td>\n",
       "      <td>bihday your majesty</td>\n",
       "    </tr>\n",
       "    <tr>\n",
       "      <th>3</th>\n",
       "      <td>0</td>\n",
       "      <td>#model   i love u take with u all the time in ...</td>\n",
       "    </tr>\n",
       "    <tr>\n",
       "      <th>4</th>\n",
       "      <td>0</td>\n",
       "      <td>factsguide: society now    #motivation</td>\n",
       "    </tr>\n",
       "  </tbody>\n",
       "</table>\n",
       "</div>"
      ],
      "text/plain": [
       "   label                                              tweet\n",
       "0      0   @user when a father is dysfunctional and is s...\n",
       "1      0  @user @user thanks for #lyft credit i can't us...\n",
       "2      0                                bihday your majesty\n",
       "3      0  #model   i love u take with u all the time in ...\n",
       "4      0             factsguide: society now    #motivation"
      ]
     },
     "execution_count": 3,
     "metadata": {},
     "output_type": "execute_result"
    }
   ],
   "source": [
    "train.drop(\"id\", axis=1, inplace = True)\n",
    "train.head()"
   ]
  },
  {
   "cell_type": "markdown",
   "id": "6d6ae68a",
   "metadata": {
    "papermill": {
     "duration": 0.043411,
     "end_time": "2022-01-06T06:06:08.160097",
     "exception": false,
     "start_time": "2022-01-06T06:06:08.116686",
     "status": "completed"
    },
    "tags": []
   },
   "source": [
    "# Preprocessing the data"
   ]
  },
  {
   "cell_type": "code",
   "execution_count": 4,
   "id": "8086e28c",
   "metadata": {
    "execution": {
     "iopub.execute_input": "2022-01-06T06:06:08.248435Z",
     "iopub.status.busy": "2022-01-06T06:06:08.247603Z",
     "iopub.status.idle": "2022-01-06T06:06:08.260444Z",
     "shell.execute_reply": "2022-01-06T06:06:08.259802Z",
     "shell.execute_reply.started": "2022-01-05T12:31:55.990051Z"
    },
    "papermill": {
     "duration": 0.058441,
     "end_time": "2022-01-06T06:06:08.260606",
     "exception": false,
     "start_time": "2022-01-06T06:06:08.202165",
     "status": "completed"
    },
    "tags": []
   },
   "outputs": [],
   "source": [
    "def expand_contractions(df_series):\n",
    "    \n",
    "    for i in range(len(df_series)):\n",
    "        \n",
    "        df_series[i]= contractions.fix(df_series[i])\n",
    "        \n",
    "    return df_series\n",
    "\n",
    "def get_pos(token):\n",
    "    \n",
    "    pos_tag = nltk.pos_tag(token)[0][1][0].upper()\n",
    "    pos_tag_dict = {\"J\": wordnet.ADJ,\n",
    "                    \"V\": wordnet.VERB,\n",
    "                    \"N\": wordnet.NOUN,\n",
    "                    \"R\": wordnet.ADV}\n",
    "    return pos_tag_dict.get(pos_tag, wordnet.NOUN)\n",
    "\n",
    "def lemmatize_series(df_series, remove_stopwords=False):\n",
    "    \n",
    "    if remove_stopwords:\n",
    "        stop_words = set(stopwords.words(\"english\"))\n",
    "        lm = WordNetLemmatizer()\n",
    "        for i in range(len(df_series)):\n",
    "            df_series[i] = ' '.join([lm.lemmatize(word, get_pos(word)) \n",
    "                                     for word in df_series[i].split() \n",
    "                                      if not word.lower() in stop_words])\n",
    "    \n",
    "    else:\n",
    "        lm = WordNetLemmatizer()\n",
    "        for i in range(len(df_series)):\n",
    "            df_series[i] = ' '.join([lm.lemmatize(word, get_pos(word)) \n",
    "                                     for word in df_series[i].split()])\n",
    "    \n",
    "    return df_series\n",
    "\n"
   ]
  },
  {
   "cell_type": "code",
   "execution_count": 5,
   "id": "6cbe0448",
   "metadata": {
    "execution": {
     "iopub.execute_input": "2022-01-06T06:06:08.353327Z",
     "iopub.status.busy": "2022-01-06T06:06:08.352366Z",
     "iopub.status.idle": "2022-01-06T06:06:08.355691Z",
     "shell.execute_reply": "2022-01-06T06:06:08.355155Z",
     "shell.execute_reply.started": "2022-01-05T12:31:56.00307Z"
    },
    "papermill": {
     "duration": 0.053143,
     "end_time": "2022-01-06T06:06:08.355850",
     "exception": false,
     "start_time": "2022-01-06T06:06:08.302707",
     "status": "completed"
    },
    "tags": []
   },
   "outputs": [],
   "source": [
    "def preprocess_tweets(df_series, remove_stopwords=True):\n",
    "    \n",
    "    # Expand contractions (Eg: can't --> cannot)\n",
    "    df_series = expand_contractions(df_series)\n",
    "    \n",
    "    # Removes '@user' tags\n",
    "    df_series = df_series.str.replace(\"@user\", \"\", regex=False)\n",
    "    \n",
    "    # Removes '&amp' tags\n",
    "    df_series = df_series.str.replace(\"&amp\", \" \")\n",
    "    \n",
    "    # Removes non alphanumeric characters\n",
    "    df_series = df_series.str.replace(\"[^a-zA-Z0-9 ]\", \" \")\n",
    "    \n",
    "    # Lemmatize tweets\n",
    "    df_series = lemmatize_series(df_series, remove_stopwords=remove_stopwords)\n",
    "    \n",
    "    return df_series"
   ]
  },
  {
   "cell_type": "code",
   "execution_count": 6,
   "id": "75806258",
   "metadata": {
    "execution": {
     "iopub.execute_input": "2022-01-06T06:06:08.446292Z",
     "iopub.status.busy": "2022-01-06T06:06:08.445252Z",
     "iopub.status.idle": "2022-01-06T06:08:52.748801Z",
     "shell.execute_reply": "2022-01-06T06:08:52.748191Z",
     "shell.execute_reply.started": "2022-01-05T12:31:56.021671Z"
    },
    "papermill": {
     "duration": 164.34958,
     "end_time": "2022-01-06T06:08:52.749002",
     "exception": false,
     "start_time": "2022-01-06T06:06:08.399422",
     "status": "completed"
    },
    "tags": []
   },
   "outputs": [
    {
     "name": "stderr",
     "output_type": "stream",
     "text": [
      "/opt/conda/lib/python3.7/site-packages/ipykernel_launcher.py:5: SettingWithCopyWarning: \n",
      "A value is trying to be set on a copy of a slice from a DataFrame\n",
      "\n",
      "See the caveats in the documentation: https://pandas.pydata.org/pandas-docs/stable/user_guide/indexing.html#returning-a-view-versus-a-copy\n",
      "  \"\"\"\n",
      "/opt/conda/lib/python3.7/site-packages/ipykernel_launcher.py:13: FutureWarning: The default value of regex will change from True to False in a future version.\n",
      "  del sys.path[0]\n"
     ]
    },
    {
     "data": {
      "text/html": [
       "<div>\n",
       "<style scoped>\n",
       "    .dataframe tbody tr th:only-of-type {\n",
       "        vertical-align: middle;\n",
       "    }\n",
       "\n",
       "    .dataframe tbody tr th {\n",
       "        vertical-align: top;\n",
       "    }\n",
       "\n",
       "    .dataframe thead th {\n",
       "        text-align: right;\n",
       "    }\n",
       "</style>\n",
       "<table border=\"1\" class=\"dataframe\">\n",
       "  <thead>\n",
       "    <tr style=\"text-align: right;\">\n",
       "      <th></th>\n",
       "      <th>label</th>\n",
       "      <th>tweet</th>\n",
       "    </tr>\n",
       "  </thead>\n",
       "  <tbody>\n",
       "    <tr>\n",
       "      <th>0</th>\n",
       "      <td>0</td>\n",
       "      <td>father dysfunctional selfish drag kid dysfunct...</td>\n",
       "    </tr>\n",
       "    <tr>\n",
       "      <th>1</th>\n",
       "      <td>0</td>\n",
       "      <td>thanks lyft credit cannot use offer wheelchair...</td>\n",
       "    </tr>\n",
       "    <tr>\n",
       "      <th>2</th>\n",
       "      <td>0</td>\n",
       "      <td>bihday majesty</td>\n",
       "    </tr>\n",
       "    <tr>\n",
       "      <th>3</th>\n",
       "      <td>0</td>\n",
       "      <td>model love take time ur</td>\n",
       "    </tr>\n",
       "    <tr>\n",
       "      <th>4</th>\n",
       "      <td>0</td>\n",
       "      <td>factsguide society motivation</td>\n",
       "    </tr>\n",
       "  </tbody>\n",
       "</table>\n",
       "</div>"
      ],
      "text/plain": [
       "   label                                              tweet\n",
       "0      0  father dysfunctional selfish drag kid dysfunct...\n",
       "1      0  thanks lyft credit cannot use offer wheelchair...\n",
       "2      0                                     bihday majesty\n",
       "3      0                            model love take time ur\n",
       "4      0                      factsguide society motivation"
      ]
     },
     "metadata": {},
     "output_type": "display_data"
    },
    {
     "name": "stdout",
     "output_type": "stream",
     "text": [
      "product day happy man wine tool weekend time open drink\n"
     ]
    }
   ],
   "source": [
    "train[\"tweet\"] = preprocess_tweets(train[\"tweet\"])\n",
    "display(train.head())\n",
    "print(train[\"tweet\"][22])"
   ]
  },
  {
   "cell_type": "code",
   "execution_count": 7,
   "id": "ca1bb089",
   "metadata": {
    "execution": {
     "iopub.execute_input": "2022-01-06T06:08:52.841175Z",
     "iopub.status.busy": "2022-01-06T06:08:52.840452Z",
     "iopub.status.idle": "2022-01-06T06:08:52.852334Z",
     "shell.execute_reply": "2022-01-06T06:08:52.852901Z",
     "shell.execute_reply.started": "2022-01-05T12:34:34.715273Z"
    },
    "papermill": {
     "duration": 0.060107,
     "end_time": "2022-01-06T06:08:52.853107",
     "exception": false,
     "start_time": "2022-01-06T06:08:52.793000",
     "status": "completed"
    },
    "tags": []
   },
   "outputs": [],
   "source": [
    "## Creating Corpus for tokenization\n",
    "corpus = []\n",
    "for tweet in train['tweet']:\n",
    "    corpus.append(tweet)       "
   ]
  },
  {
   "cell_type": "code",
   "execution_count": 8,
   "id": "1ade182b",
   "metadata": {
    "execution": {
     "iopub.execute_input": "2022-01-06T06:08:52.945108Z",
     "iopub.status.busy": "2022-01-06T06:08:52.944415Z",
     "iopub.status.idle": "2022-01-06T06:08:53.511753Z",
     "shell.execute_reply": "2022-01-06T06:08:53.511135Z",
     "shell.execute_reply.started": "2022-01-05T12:34:34.732035Z"
    },
    "papermill": {
     "duration": 0.614681,
     "end_time": "2022-01-06T06:08:53.511952",
     "exception": false,
     "start_time": "2022-01-06T06:08:52.897271",
     "status": "completed"
    },
    "tags": []
   },
   "outputs": [],
   "source": [
    "# Creating unique key value pair with tokenizer\n",
    "tokenizer = Tokenizer()\n",
    "tokenizer.fit_on_texts(corpus)\n",
    "total_words = len(tokenizer.word_index) + 1\n",
    "\n"
   ]
  },
  {
   "cell_type": "code",
   "execution_count": 9,
   "id": "3159bb06",
   "metadata": {
    "execution": {
     "iopub.execute_input": "2022-01-06T06:08:53.603097Z",
     "iopub.status.busy": "2022-01-06T06:08:53.602406Z",
     "iopub.status.idle": "2022-01-06T06:08:54.323513Z",
     "shell.execute_reply": "2022-01-06T06:08:54.324048Z",
     "shell.execute_reply.started": "2022-01-05T12:34:35.310453Z"
    },
    "papermill": {
     "duration": 0.768576,
     "end_time": "2022-01-06T06:08:54.324283",
     "exception": false,
     "start_time": "2022-01-06T06:08:53.555707",
     "status": "completed"
    },
    "tags": []
   },
   "outputs": [],
   "source": [
    "# Preparing the data for training by padding the sequence uniformly\n",
    "\n",
    "max_seq_len = max([len(i) for i in corpus])\n",
    "input_sequences = []\n",
    "for tweet in corpus:\n",
    "    token_list = tokenizer.texts_to_sequences([tweet])[0] # converting words to corresponding values from 'word_index'\n",
    "    input_sequences.append(token_list)\n",
    "input_sequences = np.array(pad_sequences(input_sequences, maxlen=max_seq_len, padding='pre')) # padding"
   ]
  },
  {
   "cell_type": "code",
   "execution_count": 10,
   "id": "156c4e24",
   "metadata": {
    "execution": {
     "iopub.execute_input": "2022-01-06T06:08:54.419040Z",
     "iopub.status.busy": "2022-01-06T06:08:54.418389Z",
     "iopub.status.idle": "2022-01-06T06:08:54.422299Z",
     "shell.execute_reply": "2022-01-06T06:08:54.422835Z",
     "shell.execute_reply.started": "2022-01-05T12:34:36.036019Z"
    },
    "papermill": {
     "duration": 0.054916,
     "end_time": "2022-01-06T06:08:54.423035",
     "exception": false,
     "start_time": "2022-01-06T06:08:54.368119",
     "status": "completed"
    },
    "tags": []
   },
   "outputs": [
    {
     "name": "stdout",
     "output_type": "stream",
     "text": [
      "[[    0     0     0 ...   123  7110   295]\n",
      " [    0     0     0 ...  7112 13996  9094]\n",
      " [    0     0     0 ...     0    17  3027]\n",
      " ...\n",
      " [    0     0     0 ...  6870    24    65]\n",
      " [    0     0     0 ...  1449  1450   459]\n",
      " [    0     0     0 ...     0   103    86]]\n"
     ]
    }
   ],
   "source": [
    "print(input_sequences)"
   ]
  },
  {
   "cell_type": "code",
   "execution_count": 11,
   "id": "0bd9ddfd",
   "metadata": {
    "execution": {
     "iopub.execute_input": "2022-01-06T06:08:54.516385Z",
     "iopub.status.busy": "2022-01-06T06:08:54.514281Z",
     "iopub.status.idle": "2022-01-06T06:08:54.519785Z",
     "shell.execute_reply": "2022-01-06T06:08:54.519215Z",
     "shell.execute_reply.started": "2022-01-05T12:34:36.042177Z"
    },
    "papermill": {
     "duration": 0.052885,
     "end_time": "2022-01-06T06:08:54.519955",
     "exception": false,
     "start_time": "2022-01-06T06:08:54.467070",
     "status": "completed"
    },
    "tags": []
   },
   "outputs": [
    {
     "name": "stdout",
     "output_type": "stream",
     "text": [
      "31962\n"
     ]
    }
   ],
   "source": [
    "labels = np.array(train['label'])\n",
    "print(len(labels))"
   ]
  },
  {
   "cell_type": "markdown",
   "id": "f5c9c83f",
   "metadata": {
    "papermill": {
     "duration": 0.04406,
     "end_time": "2022-01-06T06:08:54.609737",
     "exception": false,
     "start_time": "2022-01-06T06:08:54.565677",
     "status": "completed"
    },
    "tags": []
   },
   "source": [
    "# Train and Test Split"
   ]
  },
  {
   "cell_type": "code",
   "execution_count": 12,
   "id": "983d1b5f",
   "metadata": {
    "execution": {
     "iopub.execute_input": "2022-01-06T06:08:54.711405Z",
     "iopub.status.busy": "2022-01-06T06:08:54.710614Z",
     "iopub.status.idle": "2022-01-06T06:08:54.739008Z",
     "shell.execute_reply": "2022-01-06T06:08:54.738340Z",
     "shell.execute_reply.started": "2022-01-05T12:34:36.055551Z"
    },
    "papermill": {
     "duration": 0.085349,
     "end_time": "2022-01-06T06:08:54.739166",
     "exception": false,
     "start_time": "2022-01-06T06:08:54.653817",
     "status": "completed"
    },
    "tags": []
   },
   "outputs": [],
   "source": [
    "# Splitting the data into training and validation\n",
    "\n",
    "split = int(.2 * len(corpus)) # 20% for validation\n",
    "rand_row_num = np.random.randint(0, len(corpus), split)\n",
    "\n",
    "X_test = np.array([input_sequences[i] for i in rand_row_num])\n",
    "y_test = np.array([labels[i] for i in rand_row_num])\n",
    "\n",
    "X_train = np.delete(input_sequences, rand_row_num, axis=0)\n",
    "y_train = np.delete(labels, rand_row_num, axis=0)"
   ]
  },
  {
   "cell_type": "code",
   "execution_count": 13,
   "id": "34e8fa4d",
   "metadata": {
    "execution": {
     "iopub.execute_input": "2022-01-06T06:08:54.835136Z",
     "iopub.status.busy": "2022-01-06T06:08:54.832288Z",
     "iopub.status.idle": "2022-01-06T06:08:54.839718Z",
     "shell.execute_reply": "2022-01-06T06:08:54.839016Z",
     "shell.execute_reply.started": "2022-01-05T12:34:36.085461Z"
    },
    "papermill": {
     "duration": 0.056687,
     "end_time": "2022-01-06T06:08:54.839888",
     "exception": false,
     "start_time": "2022-01-06T06:08:54.783201",
     "status": "completed"
    },
    "tags": []
   },
   "outputs": [
    {
     "data": {
      "text/plain": [
       "array([0, 0, 0, ..., 0, 1, 0])"
      ]
     },
     "execution_count": 13,
     "metadata": {},
     "output_type": "execute_result"
    }
   ],
   "source": [
    "y_train"
   ]
  },
  {
   "cell_type": "code",
   "execution_count": 14,
   "id": "db2f0ff6",
   "metadata": {
    "execution": {
     "iopub.execute_input": "2022-01-06T06:08:54.935089Z",
     "iopub.status.busy": "2022-01-06T06:08:54.934387Z",
     "iopub.status.idle": "2022-01-06T06:08:54.937746Z",
     "shell.execute_reply": "2022-01-06T06:08:54.938377Z",
     "shell.execute_reply.started": "2022-01-05T12:34:36.094251Z"
    },
    "papermill": {
     "duration": 0.054267,
     "end_time": "2022-01-06T06:08:54.938560",
     "exception": false,
     "start_time": "2022-01-06T06:08:54.884293",
     "status": "completed"
    },
    "tags": []
   },
   "outputs": [],
   "source": [
    "y_train = ku.to_categorical(y_train, num_classes=2)\n",
    "y_test = ku.to_categorical(y_test, num_classes=2)"
   ]
  },
  {
   "cell_type": "code",
   "execution_count": 15,
   "id": "1204016e",
   "metadata": {
    "execution": {
     "iopub.execute_input": "2022-01-06T06:08:55.031228Z",
     "iopub.status.busy": "2022-01-06T06:08:55.030554Z",
     "iopub.status.idle": "2022-01-06T06:08:55.035687Z",
     "shell.execute_reply": "2022-01-06T06:08:55.036333Z",
     "shell.execute_reply.started": "2022-01-05T12:44:25.321719Z"
    },
    "papermill": {
     "duration": 0.053538,
     "end_time": "2022-01-06T06:08:55.036506",
     "exception": false,
     "start_time": "2022-01-06T06:08:54.982968",
     "status": "completed"
    },
    "tags": []
   },
   "outputs": [
    {
     "name": "stdout",
     "output_type": "stream",
     "text": [
      "[[1. 0.]\n",
      " [1. 0.]\n",
      " [1. 0.]\n",
      " ...\n",
      " [1. 0.]\n",
      " [0. 1.]\n",
      " [1. 0.]]\n"
     ]
    }
   ],
   "source": [
    "print(y_train)"
   ]
  },
  {
   "cell_type": "markdown",
   "id": "c3ee6734",
   "metadata": {
    "papermill": {
     "duration": 0.044349,
     "end_time": "2022-01-06T06:08:55.125428",
     "exception": false,
     "start_time": "2022-01-06T06:08:55.081079",
     "status": "completed"
    },
    "tags": []
   },
   "source": [
    "# Model "
   ]
  },
  {
   "cell_type": "code",
   "execution_count": 16,
   "id": "9903d434",
   "metadata": {
    "execution": {
     "iopub.execute_input": "2022-01-06T06:08:55.219207Z",
     "iopub.status.busy": "2022-01-06T06:08:55.218506Z",
     "iopub.status.idle": "2022-01-06T06:08:56.137449Z",
     "shell.execute_reply": "2022-01-06T06:08:56.138042Z",
     "shell.execute_reply.started": "2022-01-05T12:34:36.116831Z"
    },
    "papermill": {
     "duration": 0.967365,
     "end_time": "2022-01-06T06:08:56.138266",
     "exception": false,
     "start_time": "2022-01-06T06:08:55.170901",
     "status": "completed"
    },
    "tags": []
   },
   "outputs": [
    {
     "name": "stderr",
     "output_type": "stream",
     "text": [
      "\n",
      "User settings:\n",
      "\n",
      "   KMP_AFFINITY=granularity=fine,verbose,compact,1,0\n",
      "   KMP_BLOCKTIME=0\n",
      "   KMP_DUPLICATE_LIB_OK=True\n",
      "   KMP_INIT_AT_FORK=FALSE\n",
      "   KMP_SETTINGS=1\n",
      "   KMP_WARNINGS=0\n",
      "\n",
      "Effective settings:\n",
      "\n",
      "   KMP_ABORT_DELAY=0\n",
      "   KMP_ADAPTIVE_LOCK_PROPS='1,1024'\n",
      "   KMP_ALIGN_ALLOC=64\n",
      "   KMP_ALL_THREADPRIVATE=128\n",
      "   KMP_ATOMIC_MODE=2\n",
      "   KMP_BLOCKTIME=0\n",
      "   KMP_CPUINFO_FILE: value is not defined\n",
      "   KMP_DETERMINISTIC_REDUCTION=false\n",
      "   KMP_DEVICE_THREAD_LIMIT=2147483647\n",
      "   KMP_DISP_NUM_BUFFERS=7\n",
      "   KMP_DUPLICATE_LIB_OK=true\n",
      "   KMP_ENABLE_TASK_THROTTLING=true\n",
      "   KMP_FORCE_REDUCTION: value is not defined\n",
      "   KMP_FOREIGN_THREADS_THREADPRIVATE=true\n",
      "   KMP_FORKJOIN_BARRIER='2,2'\n",
      "   KMP_FORKJOIN_BARRIER_PATTERN='hyper,hyper'\n",
      "   KMP_GTID_MODE=3\n",
      "   KMP_HANDLE_SIGNALS=false\n",
      "   KMP_HOT_TEAMS_MAX_LEVEL=1\n",
      "   KMP_HOT_TEAMS_MODE=0\n",
      "   KMP_INIT_AT_FORK=true\n",
      "   KMP_LIBRARY=throughput\n",
      "   KMP_LOCK_KIND=queuing\n",
      "   KMP_MALLOC_POOL_INCR=1M\n",
      "   KMP_NUM_LOCKS_IN_BLOCK=1\n",
      "   KMP_PLAIN_BARRIER='2,2'\n",
      "   KMP_PLAIN_BARRIER_PATTERN='hyper,hyper'\n",
      "   KMP_REDUCTION_BARRIER='1,1'\n",
      "   KMP_REDUCTION_BARRIER_PATTERN='hyper,hyper'\n",
      "   KMP_SCHEDULE='static,balanced;guided,iterative'\n",
      "   KMP_SETTINGS=true\n",
      "   KMP_SPIN_BACKOFF_PARAMS='4096,100'\n",
      "   KMP_STACKOFFSET=64\n",
      "   KMP_STACKPAD=0\n",
      "   KMP_STACKSIZE=8M\n",
      "   KMP_STORAGE_MAP=false\n",
      "   KMP_TASKING=2\n",
      "   KMP_TASKLOOP_MIN_TASKS=0\n",
      "   KMP_TASK_STEALING_CONSTRAINT=1\n",
      "   KMP_TEAMS_THREAD_LIMIT=4\n",
      "   KMP_TOPOLOGY_METHOD=all\n",
      "   KMP_USE_YIELD=1\n",
      "   KMP_VERSION=false\n",
      "   KMP_WARNINGS=false\n",
      "   OMP_AFFINITY_FORMAT='OMP: pid %P tid %i thread %n bound to OS proc set {%A}'\n",
      "   OMP_ALLOCATOR=omp_default_mem_alloc\n",
      "   OMP_CANCELLATION=false\n",
      "   OMP_DEFAULT_DEVICE=0\n",
      "   OMP_DISPLAY_AFFINITY=false\n",
      "   OMP_DISPLAY_ENV=false\n",
      "   OMP_DYNAMIC=false\n",
      "   OMP_MAX_ACTIVE_LEVELS=1\n",
      "   OMP_MAX_TASK_PRIORITY=0\n",
      "   OMP_NESTED: deprecated; max-active-levels-var=1\n",
      "   OMP_NUM_THREADS: value is not defined\n",
      "   OMP_PLACES: value is not defined\n",
      "   OMP_PROC_BIND='intel'\n",
      "   OMP_SCHEDULE='static'\n",
      "   OMP_STACKSIZE=8M\n",
      "   OMP_TARGET_OFFLOAD=DEFAULT\n",
      "   OMP_THREAD_LIMIT=2147483647\n",
      "   OMP_WAIT_POLICY=PASSIVE\n",
      "   KMP_AFFINITY='verbose,warnings,respect,granularity=fine,compact,1,0'\n",
      "\n",
      "2022-01-06 06:08:55.274610: I tensorflow/core/common_runtime/process_util.cc:146] Creating new thread pool with default inter op setting: 2. Tune using inter_op_parallelism_threads for best performance.\n"
     ]
    }
   ],
   "source": [
    "# Model and Arcitecture\n",
    "\n",
    "model = tf.keras.Sequential([\n",
    "    layers.Embedding(total_words, 5, input_length = max_seq_len),\n",
    "    layers.Bidirectional(layers.LSTM(8, return_sequences= True)),\n",
    "    layers.Dropout(0.2),\n",
    "    layers.LSTM(8),\n",
    "    layers.Dense(8, activation = \"relu\"),\n",
    "    layers.Dense(2, activation = \"softmax\")])"
   ]
  },
  {
   "cell_type": "code",
   "execution_count": 17,
   "id": "9ad6e738",
   "metadata": {
    "execution": {
     "iopub.execute_input": "2022-01-06T06:08:56.238710Z",
     "iopub.status.busy": "2022-01-06T06:08:56.238009Z",
     "iopub.status.idle": "2022-01-06T06:08:56.247951Z",
     "shell.execute_reply": "2022-01-06T06:08:56.247271Z",
     "shell.execute_reply.started": "2022-01-05T12:34:36.80776Z"
    },
    "papermill": {
     "duration": 0.061147,
     "end_time": "2022-01-06T06:08:56.248109",
     "exception": false,
     "start_time": "2022-01-06T06:08:56.186962",
     "status": "completed"
    },
    "tags": []
   },
   "outputs": [
    {
     "name": "stdout",
     "output_type": "stream",
     "text": [
      "Model: \"sequential\"\n",
      "_________________________________________________________________\n",
      "Layer (type)                 Output Shape              Param #   \n",
      "=================================================================\n",
      "embedding (Embedding)        (None, 125, 5)            183555    \n",
      "_________________________________________________________________\n",
      "bidirectional (Bidirectional (None, 125, 16)           896       \n",
      "_________________________________________________________________\n",
      "dropout (Dropout)            (None, 125, 16)           0         \n",
      "_________________________________________________________________\n",
      "lstm_1 (LSTM)                (None, 8)                 800       \n",
      "_________________________________________________________________\n",
      "dense (Dense)                (None, 8)                 72        \n",
      "_________________________________________________________________\n",
      "dense_1 (Dense)              (None, 2)                 18        \n",
      "=================================================================\n",
      "Total params: 185,341\n",
      "Trainable params: 185,341\n",
      "Non-trainable params: 0\n",
      "_________________________________________________________________\n"
     ]
    }
   ],
   "source": [
    "model.summary()"
   ]
  },
  {
   "cell_type": "code",
   "execution_count": 18,
   "id": "3e913dc4",
   "metadata": {
    "execution": {
     "iopub.execute_input": "2022-01-06T06:08:56.345848Z",
     "iopub.status.busy": "2022-01-06T06:08:56.345180Z",
     "iopub.status.idle": "2022-01-06T06:08:56.347158Z",
     "shell.execute_reply": "2022-01-06T06:08:56.347802Z",
     "shell.execute_reply.started": "2022-01-05T12:34:36.819373Z"
    },
    "papermill": {
     "duration": 0.05403,
     "end_time": "2022-01-06T06:08:56.347987",
     "exception": false,
     "start_time": "2022-01-06T06:08:56.293957",
     "status": "completed"
    },
    "tags": []
   },
   "outputs": [],
   "source": [
    "lr_scheduler = tf.keras.callbacks.LearningRateScheduler(lambda epoch: 1e-6 * 10 ** epoch)"
   ]
  },
  {
   "cell_type": "code",
   "execution_count": 19,
   "id": "c6026ab7",
   "metadata": {
    "execution": {
     "iopub.execute_input": "2022-01-06T06:08:56.443369Z",
     "iopub.status.busy": "2022-01-06T06:08:56.442707Z",
     "iopub.status.idle": "2022-01-06T06:08:56.468341Z",
     "shell.execute_reply": "2022-01-06T06:08:56.468940Z",
     "shell.execute_reply.started": "2022-01-05T12:34:36.826538Z"
    },
    "papermill": {
     "duration": 0.075591,
     "end_time": "2022-01-06T06:08:56.469127",
     "exception": false,
     "start_time": "2022-01-06T06:08:56.393536",
     "status": "completed"
    },
    "tags": []
   },
   "outputs": [],
   "source": [
    "model.compile(optimizer=tf.keras.optimizers.Adam(), loss=tf.keras.losses.BinaryCrossentropy(),\n",
    "             metrics=['accuracy'])"
   ]
  },
  {
   "cell_type": "code",
   "execution_count": 20,
   "id": "3bf633b3",
   "metadata": {
    "execution": {
     "iopub.execute_input": "2022-01-06T06:08:56.563962Z",
     "iopub.status.busy": "2022-01-06T06:08:56.563152Z",
     "iopub.status.idle": "2022-01-06T06:13:22.848237Z",
     "shell.execute_reply": "2022-01-06T06:13:22.847468Z",
     "shell.execute_reply.started": "2022-01-05T12:34:36.843964Z"
    },
    "papermill": {
     "duration": 266.334046,
     "end_time": "2022-01-06T06:13:22.848416",
     "exception": false,
     "start_time": "2022-01-06T06:08:56.514370",
     "status": "completed"
    },
    "tags": []
   },
   "outputs": [
    {
     "name": "stderr",
     "output_type": "stream",
     "text": [
      "2022-01-06 06:08:56.631746: I tensorflow/compiler/mlir/mlir_graph_optimization_pass.cc:185] None of the MLIR Optimization Passes are enabled (registered 2)\n"
     ]
    },
    {
     "name": "stdout",
     "output_type": "stream",
     "text": [
      "Epoch 1/5\n",
      "409/409 [==============================] - 47s 100ms/step - loss: 0.6898 - accuracy: 0.8699\n",
      "Epoch 2/5\n",
      "409/409 [==============================] - 42s 102ms/step - loss: 0.6809 - accuracy: 0.9283\n",
      "Epoch 3/5\n",
      "409/409 [==============================] - 41s 101ms/step - loss: 0.3615 - accuracy: 0.9303\n",
      "Epoch 4/5\n",
      "409/409 [==============================] - 43s 105ms/step - loss: 0.2530 - accuracy: 0.9303\n",
      "Epoch 5/5\n",
      "409/409 [==============================] - 42s 104ms/step - loss: 0.1311 - accuracy: 0.9568\n"
     ]
    }
   ],
   "source": [
    "history = model.fit(X_train, y_train, epochs=5, batch_size=64, callbacks=[lr_scheduler])"
   ]
  },
  {
   "cell_type": "code",
   "execution_count": 21,
   "id": "4eca0f7d",
   "metadata": {
    "execution": {
     "iopub.execute_input": "2022-01-06T06:13:24.229668Z",
     "iopub.status.busy": "2022-01-06T06:13:24.229032Z",
     "iopub.status.idle": "2022-01-06T06:13:27.792787Z",
     "shell.execute_reply": "2022-01-06T06:13:27.793360Z",
     "shell.execute_reply.started": "2022-01-05T12:37:14.108781Z"
    },
    "papermill": {
     "duration": 4.25358,
     "end_time": "2022-01-06T06:13:27.793535",
     "exception": false,
     "start_time": "2022-01-06T06:13:23.539955",
     "status": "completed"
    },
    "tags": []
   },
   "outputs": [
    {
     "name": "stdout",
     "output_type": "stream",
     "text": [
      "100/100 [==============================] - 4s 22ms/step - loss: 0.1049 - accuracy: 0.9640\n"
     ]
    },
    {
     "data": {
      "text/plain": [
       "[0.10491311550140381, 0.9640175104141235]"
      ]
     },
     "execution_count": 21,
     "metadata": {},
     "output_type": "execute_result"
    }
   ],
   "source": [
    "# Evaluating the validation set\n",
    "\n",
    "model.evaluate(X_test, y_test, batch_size=64)"
   ]
  },
  {
   "cell_type": "markdown",
   "id": "d10e62ee",
   "metadata": {
    "papermill": {
     "duration": 0.706314,
     "end_time": "2022-01-06T06:13:29.205641",
     "exception": false,
     "start_time": "2022-01-06T06:13:28.499327",
     "status": "completed"
    },
    "tags": []
   },
   "source": [
    "# Predicting on test data"
   ]
  },
  {
   "cell_type": "code",
   "execution_count": 22,
   "id": "70e4a4d9",
   "metadata": {
    "execution": {
     "iopub.execute_input": "2022-01-06T06:13:30.612035Z",
     "iopub.status.busy": "2022-01-06T06:13:30.611371Z",
     "iopub.status.idle": "2022-01-06T06:13:30.698387Z",
     "shell.execute_reply": "2022-01-06T06:13:30.697792Z",
     "shell.execute_reply.started": "2022-01-05T12:37:16.961272Z"
    },
    "papermill": {
     "duration": 0.791247,
     "end_time": "2022-01-06T06:13:30.698549",
     "exception": false,
     "start_time": "2022-01-06T06:13:29.907302",
     "status": "completed"
    },
    "tags": []
   },
   "outputs": [
    {
     "data": {
      "text/html": [
       "<div>\n",
       "<style scoped>\n",
       "    .dataframe tbody tr th:only-of-type {\n",
       "        vertical-align: middle;\n",
       "    }\n",
       "\n",
       "    .dataframe tbody tr th {\n",
       "        vertical-align: top;\n",
       "    }\n",
       "\n",
       "    .dataframe thead th {\n",
       "        text-align: right;\n",
       "    }\n",
       "</style>\n",
       "<table border=\"1\" class=\"dataframe\">\n",
       "  <thead>\n",
       "    <tr style=\"text-align: right;\">\n",
       "      <th></th>\n",
       "      <th>id</th>\n",
       "      <th>tweet</th>\n",
       "    </tr>\n",
       "  </thead>\n",
       "  <tbody>\n",
       "    <tr>\n",
       "      <th>0</th>\n",
       "      <td>31963</td>\n",
       "      <td>#studiolife #aislife #requires #passion #dedic...</td>\n",
       "    </tr>\n",
       "    <tr>\n",
       "      <th>1</th>\n",
       "      <td>31964</td>\n",
       "      <td>@user #white #supremacists want everyone to s...</td>\n",
       "    </tr>\n",
       "    <tr>\n",
       "      <th>2</th>\n",
       "      <td>31965</td>\n",
       "      <td>safe ways to heal your #acne!!    #altwaystohe...</td>\n",
       "    </tr>\n",
       "    <tr>\n",
       "      <th>3</th>\n",
       "      <td>31966</td>\n",
       "      <td>is the hp and the cursed child book up for res...</td>\n",
       "    </tr>\n",
       "    <tr>\n",
       "      <th>4</th>\n",
       "      <td>31967</td>\n",
       "      <td>3rd #bihday to my amazing, hilarious #nephew...</td>\n",
       "    </tr>\n",
       "  </tbody>\n",
       "</table>\n",
       "</div>"
      ],
      "text/plain": [
       "      id                                              tweet\n",
       "0  31963  #studiolife #aislife #requires #passion #dedic...\n",
       "1  31964   @user #white #supremacists want everyone to s...\n",
       "2  31965  safe ways to heal your #acne!!    #altwaystohe...\n",
       "3  31966  is the hp and the cursed child book up for res...\n",
       "4  31967    3rd #bihday to my amazing, hilarious #nephew..."
      ]
     },
     "execution_count": 22,
     "metadata": {},
     "output_type": "execute_result"
    }
   ],
   "source": [
    "# Loading the test data\n",
    "\n",
    "test = pd.read_csv(\"../input/twitter-sentiment-analysis-hatred-speech/test.csv\")\n",
    "test.head()\n"
   ]
  },
  {
   "cell_type": "code",
   "execution_count": 23,
   "id": "864ba98d",
   "metadata": {
    "execution": {
     "iopub.execute_input": "2022-01-06T06:13:32.186739Z",
     "iopub.status.busy": "2022-01-06T06:13:32.185988Z",
     "iopub.status.idle": "2022-01-06T06:13:32.187441Z",
     "shell.execute_reply": "2022-01-06T06:13:32.188067Z",
     "shell.execute_reply.started": "2022-01-05T12:37:17.008189Z"
    },
    "papermill": {
     "duration": 0.709237,
     "end_time": "2022-01-06T06:13:32.188246",
     "exception": false,
     "start_time": "2022-01-06T06:13:31.479009",
     "status": "completed"
    },
    "tags": []
   },
   "outputs": [],
   "source": [
    "test1 = test.copy()"
   ]
  },
  {
   "cell_type": "code",
   "execution_count": 24,
   "id": "338e1bf9",
   "metadata": {
    "execution": {
     "iopub.execute_input": "2022-01-06T06:13:33.593864Z",
     "iopub.status.busy": "2022-01-06T06:13:33.593248Z",
     "iopub.status.idle": "2022-01-06T06:13:34.126253Z",
     "shell.execute_reply": "2022-01-06T06:13:34.125621Z",
     "shell.execute_reply.started": "2022-01-05T12:37:17.020441Z"
    },
    "papermill": {
     "duration": 1.236785,
     "end_time": "2022-01-06T06:13:34.126437",
     "exception": false,
     "start_time": "2022-01-06T06:13:32.889652",
     "status": "completed"
    },
    "tags": []
   },
   "outputs": [],
   "source": [
    "test_tweets = []\n",
    "for tweet in test['tweet']:\n",
    "    token_list = tokenizer.texts_to_sequences([tweet])[0]\n",
    "    test_tweets.append(token_list)\n",
    "test_tweets = np.array(pad_sequences(test_tweets, maxlen=max_seq_len, padding='pre'))"
   ]
  },
  {
   "cell_type": "code",
   "execution_count": 25,
   "id": "a9f3434d",
   "metadata": {
    "execution": {
     "iopub.execute_input": "2022-01-06T06:13:35.549101Z",
     "iopub.status.busy": "2022-01-06T06:13:35.548376Z",
     "iopub.status.idle": "2022-01-06T06:13:35.553540Z",
     "shell.execute_reply": "2022-01-06T06:13:35.554366Z",
     "shell.execute_reply.started": "2022-01-05T12:37:17.535873Z"
    },
    "papermill": {
     "duration": 0.720669,
     "end_time": "2022-01-06T06:13:35.554638",
     "exception": false,
     "start_time": "2022-01-06T06:13:34.833969",
     "status": "completed"
    },
    "tags": []
   },
   "outputs": [
    {
     "name": "stdout",
     "output_type": "stream",
     "text": [
      "[[    0     0     0 ...  1165  6704   105]\n",
      " [    0     0     0 ...    21     9   284]\n",
      " [    0     0     0 ...   110    31   187]\n",
      " ...\n",
      " [    0     0     0 ...    35 11600   200]\n",
      " [    0     0     0 ...   602    24   263]\n",
      " [    0     0     0 ...  1427  2827  8327]]\n"
     ]
    }
   ],
   "source": [
    "print(test_tweets)"
   ]
  },
  {
   "cell_type": "code",
   "execution_count": 26,
   "id": "8e8529b4",
   "metadata": {
    "execution": {
     "iopub.execute_input": "2022-01-06T06:13:37.045122Z",
     "iopub.status.busy": "2022-01-06T06:13:37.044395Z",
     "iopub.status.idle": "2022-01-06T06:13:49.124489Z",
     "shell.execute_reply": "2022-01-06T06:13:49.124991Z",
     "shell.execute_reply.started": "2022-01-05T12:37:17.54237Z"
    },
    "papermill": {
     "duration": 12.801896,
     "end_time": "2022-01-06T06:13:49.125205",
     "exception": false,
     "start_time": "2022-01-06T06:13:36.323309",
     "status": "completed"
    },
    "tags": []
   },
   "outputs": [
    {
     "name": "stdout",
     "output_type": "stream",
     "text": [
      "[[9.6991694e-01 3.0083051e-02]\n",
      " [6.4476269e-01 3.5523722e-01]\n",
      " [9.9998903e-01 1.1015830e-05]\n",
      " ...\n",
      " [7.4142301e-01 2.5857702e-01]\n",
      " [9.9999344e-01 6.4978190e-06]\n",
      " [9.9993551e-01 6.4458371e-05]]\n"
     ]
    }
   ],
   "source": [
    "pred = model.predict(test_tweets)\n",
    "print(pred)"
   ]
  },
  {
   "cell_type": "code",
   "execution_count": 27,
   "id": "d9200e22",
   "metadata": {
    "execution": {
     "iopub.execute_input": "2022-01-06T06:13:50.532666Z",
     "iopub.status.busy": "2022-01-06T06:13:50.531702Z",
     "iopub.status.idle": "2022-01-06T06:13:50.598059Z",
     "shell.execute_reply": "2022-01-06T06:13:50.597337Z",
     "shell.execute_reply.started": "2022-01-05T12:37:25.635767Z"
    },
    "papermill": {
     "duration": 0.769599,
     "end_time": "2022-01-06T06:13:50.598221",
     "exception": false,
     "start_time": "2022-01-06T06:13:49.828622",
     "status": "completed"
    },
    "tags": []
   },
   "outputs": [],
   "source": [
    "pre = []\n",
    "for p in pred:\n",
    "    pre.append(np.argmax(p))\n",
    "pre = np.array(pre)"
   ]
  },
  {
   "cell_type": "code",
   "execution_count": 28,
   "id": "b032b7d3",
   "metadata": {
    "execution": {
     "iopub.execute_input": "2022-01-06T06:13:52.000566Z",
     "iopub.status.busy": "2022-01-06T06:13:51.999826Z",
     "iopub.status.idle": "2022-01-06T06:13:52.002375Z",
     "shell.execute_reply": "2022-01-06T06:13:52.002927Z",
     "shell.execute_reply.started": "2022-01-05T12:37:25.705683Z"
    },
    "papermill": {
     "duration": 0.707211,
     "end_time": "2022-01-06T06:13:52.003101",
     "exception": false,
     "start_time": "2022-01-06T06:13:51.295890",
     "status": "completed"
    },
    "tags": []
   },
   "outputs": [
    {
     "name": "stdout",
     "output_type": "stream",
     "text": [
      "[0 0 0 ... 0 0 0]\n"
     ]
    }
   ],
   "source": [
    "print(pre)"
   ]
  },
  {
   "cell_type": "code",
   "execution_count": 29,
   "id": "f6201d8e",
   "metadata": {
    "execution": {
     "iopub.execute_input": "2022-01-06T06:13:53.406398Z",
     "iopub.status.busy": "2022-01-06T06:13:53.405687Z",
     "iopub.status.idle": "2022-01-06T06:13:53.409955Z",
     "shell.execute_reply": "2022-01-06T06:13:53.410519Z",
     "shell.execute_reply.started": "2022-01-05T12:37:25.7123Z"
    },
    "papermill": {
     "duration": 0.70741,
     "end_time": "2022-01-06T06:13:53.410691",
     "exception": false,
     "start_time": "2022-01-06T06:13:52.703281",
     "status": "completed"
    },
    "tags": []
   },
   "outputs": [],
   "source": [
    "result = pd.DataFrame(pre, columns = ['label'])"
   ]
  },
  {
   "cell_type": "code",
   "execution_count": 30,
   "id": "02273f75",
   "metadata": {
    "execution": {
     "iopub.execute_input": "2022-01-06T06:13:54.819747Z",
     "iopub.status.busy": "2022-01-06T06:13:54.819063Z",
     "iopub.status.idle": "2022-01-06T06:13:54.827082Z",
     "shell.execute_reply": "2022-01-06T06:13:54.827753Z",
     "shell.execute_reply.started": "2022-01-05T12:37:25.726272Z"
    },
    "papermill": {
     "duration": 0.706298,
     "end_time": "2022-01-06T06:13:54.827963",
     "exception": false,
     "start_time": "2022-01-06T06:13:54.121665",
     "status": "completed"
    },
    "tags": []
   },
   "outputs": [
    {
     "data": {
      "text/plain": [
       "0    16349\n",
       "1      848\n",
       "Name: label, dtype: int64"
      ]
     },
     "execution_count": 30,
     "metadata": {},
     "output_type": "execute_result"
    }
   ],
   "source": [
    "result['label'].value_counts()"
   ]
  },
  {
   "cell_type": "code",
   "execution_count": 31,
   "id": "17456a16",
   "metadata": {
    "execution": {
     "iopub.execute_input": "2022-01-06T06:13:56.240406Z",
     "iopub.status.busy": "2022-01-06T06:13:56.239362Z",
     "iopub.status.idle": "2022-01-06T06:13:56.250780Z",
     "shell.execute_reply": "2022-01-06T06:13:56.251409Z",
     "shell.execute_reply.started": "2022-01-05T12:37:25.741378Z"
    },
    "papermill": {
     "duration": 0.718948,
     "end_time": "2022-01-06T06:13:56.251590",
     "exception": false,
     "start_time": "2022-01-06T06:13:55.532642",
     "status": "completed"
    },
    "tags": []
   },
   "outputs": [
    {
     "data": {
      "text/html": [
       "<div>\n",
       "<style scoped>\n",
       "    .dataframe tbody tr th:only-of-type {\n",
       "        vertical-align: middle;\n",
       "    }\n",
       "\n",
       "    .dataframe tbody tr th {\n",
       "        vertical-align: top;\n",
       "    }\n",
       "\n",
       "    .dataframe thead th {\n",
       "        text-align: right;\n",
       "    }\n",
       "</style>\n",
       "<table border=\"1\" class=\"dataframe\">\n",
       "  <thead>\n",
       "    <tr style=\"text-align: right;\">\n",
       "      <th></th>\n",
       "      <th>label</th>\n",
       "      <th>tweet</th>\n",
       "    </tr>\n",
       "  </thead>\n",
       "  <tbody>\n",
       "    <tr>\n",
       "      <th>0</th>\n",
       "      <td>0</td>\n",
       "      <td>#studiolife #aislife #requires #passion #dedic...</td>\n",
       "    </tr>\n",
       "    <tr>\n",
       "      <th>1</th>\n",
       "      <td>0</td>\n",
       "      <td>@user #white #supremacists want everyone to s...</td>\n",
       "    </tr>\n",
       "    <tr>\n",
       "      <th>2</th>\n",
       "      <td>0</td>\n",
       "      <td>safe ways to heal your #acne!!    #altwaystohe...</td>\n",
       "    </tr>\n",
       "    <tr>\n",
       "      <th>3</th>\n",
       "      <td>0</td>\n",
       "      <td>is the hp and the cursed child book up for res...</td>\n",
       "    </tr>\n",
       "    <tr>\n",
       "      <th>4</th>\n",
       "      <td>0</td>\n",
       "      <td>3rd #bihday to my amazing, hilarious #nephew...</td>\n",
       "    </tr>\n",
       "    <tr>\n",
       "      <th>...</th>\n",
       "      <td>...</td>\n",
       "      <td>...</td>\n",
       "    </tr>\n",
       "    <tr>\n",
       "      <th>17192</th>\n",
       "      <td>1</td>\n",
       "      <td>thought factory: left-right polarisation! #tru...</td>\n",
       "    </tr>\n",
       "    <tr>\n",
       "      <th>17193</th>\n",
       "      <td>0</td>\n",
       "      <td>feeling like a mermaid ð #hairflip #neverre...</td>\n",
       "    </tr>\n",
       "    <tr>\n",
       "      <th>17194</th>\n",
       "      <td>0</td>\n",
       "      <td>#hillary #campaigned today in #ohio((omg)) &amp;am...</td>\n",
       "    </tr>\n",
       "    <tr>\n",
       "      <th>17195</th>\n",
       "      <td>0</td>\n",
       "      <td>happy, at work conference: right mindset leads...</td>\n",
       "    </tr>\n",
       "    <tr>\n",
       "      <th>17196</th>\n",
       "      <td>0</td>\n",
       "      <td>my   song \"so glad\" free download!  #shoegaze ...</td>\n",
       "    </tr>\n",
       "  </tbody>\n",
       "</table>\n",
       "<p>17197 rows × 2 columns</p>\n",
       "</div>"
      ],
      "text/plain": [
       "       label                                              tweet\n",
       "0          0  #studiolife #aislife #requires #passion #dedic...\n",
       "1          0   @user #white #supremacists want everyone to s...\n",
       "2          0  safe ways to heal your #acne!!    #altwaystohe...\n",
       "3          0  is the hp and the cursed child book up for res...\n",
       "4          0    3rd #bihday to my amazing, hilarious #nephew...\n",
       "...      ...                                                ...\n",
       "17192      1  thought factory: left-right polarisation! #tru...\n",
       "17193      0  feeling like a mermaid ð #hairflip #neverre...\n",
       "17194      0  #hillary #campaigned today in #ohio((omg)) &am...\n",
       "17195      0  happy, at work conference: right mindset leads...\n",
       "17196      0  my   song \"so glad\" free download!  #shoegaze ...\n",
       "\n",
       "[17197 rows x 2 columns]"
      ]
     },
     "execution_count": 31,
     "metadata": {},
     "output_type": "execute_result"
    }
   ],
   "source": [
    "result['tweet']= test1['tweet']\n",
    "result"
   ]
  },
  {
   "cell_type": "code",
   "execution_count": 32,
   "id": "0a2ba109",
   "metadata": {
    "execution": {
     "iopub.execute_input": "2022-01-06T06:13:57.733984Z",
     "iopub.status.busy": "2022-01-06T06:13:57.733249Z",
     "iopub.status.idle": "2022-01-06T06:13:57.739230Z",
     "shell.execute_reply": "2022-01-06T06:13:57.738521Z",
     "shell.execute_reply.started": "2022-01-05T12:37:25.763054Z"
    },
    "papermill": {
     "duration": 0.789317,
     "end_time": "2022-01-06T06:13:57.739389",
     "exception": false,
     "start_time": "2022-01-06T06:13:56.950072",
     "status": "completed"
    },
    "tags": []
   },
   "outputs": [
    {
     "name": "stdout",
     "output_type": "stream",
     "text": [
      "#studiolife #aislife #requires #passion #dedication #willpower   to find #newmaterialsâ¦ \n"
     ]
    }
   ],
   "source": [
    "print(test['tweet'][0])"
   ]
  },
  {
   "cell_type": "code",
   "execution_count": 33,
   "id": "35a8a2e0",
   "metadata": {
    "execution": {
     "iopub.execute_input": "2022-01-06T06:13:59.158467Z",
     "iopub.status.busy": "2022-01-06T06:13:59.157745Z",
     "iopub.status.idle": "2022-01-06T06:13:59.160864Z",
     "shell.execute_reply": "2022-01-06T06:13:59.161426Z",
     "shell.execute_reply.started": "2022-01-05T12:37:25.768994Z"
    },
    "papermill": {
     "duration": 0.714695,
     "end_time": "2022-01-06T06:13:59.161608",
     "exception": false,
     "start_time": "2022-01-06T06:13:58.446913",
     "status": "completed"
    },
    "tags": []
   },
   "outputs": [],
   "source": [
    "result[\"id\"] = test1[\"id\"]"
   ]
  },
  {
   "cell_type": "code",
   "execution_count": 34,
   "id": "0554a880",
   "metadata": {
    "execution": {
     "iopub.execute_input": "2022-01-06T06:14:00.572517Z",
     "iopub.status.busy": "2022-01-06T06:14:00.571716Z",
     "iopub.status.idle": "2022-01-06T06:14:00.586112Z",
     "shell.execute_reply": "2022-01-06T06:14:00.586634Z",
     "shell.execute_reply.started": "2022-01-05T12:37:25.781069Z"
    },
    "papermill": {
     "duration": 0.724506,
     "end_time": "2022-01-06T06:14:00.586808",
     "exception": false,
     "start_time": "2022-01-06T06:13:59.862302",
     "status": "completed"
    },
    "tags": []
   },
   "outputs": [
    {
     "data": {
      "text/html": [
       "<div>\n",
       "<style scoped>\n",
       "    .dataframe tbody tr th:only-of-type {\n",
       "        vertical-align: middle;\n",
       "    }\n",
       "\n",
       "    .dataframe tbody tr th {\n",
       "        vertical-align: top;\n",
       "    }\n",
       "\n",
       "    .dataframe thead th {\n",
       "        text-align: right;\n",
       "    }\n",
       "</style>\n",
       "<table border=\"1\" class=\"dataframe\">\n",
       "  <thead>\n",
       "    <tr style=\"text-align: right;\">\n",
       "      <th></th>\n",
       "      <th>label</th>\n",
       "      <th>tweet</th>\n",
       "      <th>id</th>\n",
       "    </tr>\n",
       "  </thead>\n",
       "  <tbody>\n",
       "    <tr>\n",
       "      <th>19</th>\n",
       "      <td>1</td>\n",
       "      <td>thought factory: bbc neutrality on right wing ...</td>\n",
       "      <td>31982</td>\n",
       "    </tr>\n",
       "    <tr>\n",
       "      <th>26</th>\n",
       "      <td>1</td>\n",
       "      <td>chick gets fucked hottest naked lady</td>\n",
       "      <td>31989</td>\n",
       "    </tr>\n",
       "    <tr>\n",
       "      <th>33</th>\n",
       "      <td>1</td>\n",
       "      <td>suppo the #taiji fisherman! no bullying! no ra...</td>\n",
       "      <td>31996</td>\n",
       "    </tr>\n",
       "    <tr>\n",
       "      <th>34</th>\n",
       "      <td>1</td>\n",
       "      <td>i say we because i'm speaking collectively. i'...</td>\n",
       "      <td>31997</td>\n",
       "    </tr>\n",
       "    <tr>\n",
       "      <th>110</th>\n",
       "      <td>1</td>\n",
       "      <td>hey @user - a $14000 ivanka bracelet? do you f...</td>\n",
       "      <td>32073</td>\n",
       "    </tr>\n",
       "    <tr>\n",
       "      <th>...</th>\n",
       "      <td>...</td>\n",
       "      <td>...</td>\n",
       "      <td>...</td>\n",
       "    </tr>\n",
       "    <tr>\n",
       "      <th>17128</th>\n",
       "      <td>1</td>\n",
       "      <td>@user the uk governmentâs new #anti-semitism...</td>\n",
       "      <td>49091</td>\n",
       "    </tr>\n",
       "    <tr>\n",
       "      <th>17148</th>\n",
       "      <td>1</td>\n",
       "      <td>we grew up fucked upð¤ its fucked upð¥ i'm...</td>\n",
       "      <td>49111</td>\n",
       "    </tr>\n",
       "    <tr>\n",
       "      <th>17176</th>\n",
       "      <td>1</td>\n",
       "      <td>@user @user are the most racist pay ever!!!!!</td>\n",
       "      <td>49139</td>\n",
       "    </tr>\n",
       "    <tr>\n",
       "      <th>17188</th>\n",
       "      <td>1</td>\n",
       "      <td>black professor demonizes, proposes nazi style...</td>\n",
       "      <td>49151</td>\n",
       "    </tr>\n",
       "    <tr>\n",
       "      <th>17192</th>\n",
       "      <td>1</td>\n",
       "      <td>thought factory: left-right polarisation! #tru...</td>\n",
       "      <td>49155</td>\n",
       "    </tr>\n",
       "  </tbody>\n",
       "</table>\n",
       "<p>848 rows × 3 columns</p>\n",
       "</div>"
      ],
      "text/plain": [
       "       label                                              tweet     id\n",
       "19         1  thought factory: bbc neutrality on right wing ...  31982\n",
       "26         1              chick gets fucked hottest naked lady   31989\n",
       "33         1  suppo the #taiji fisherman! no bullying! no ra...  31996\n",
       "34         1  i say we because i'm speaking collectively. i'...  31997\n",
       "110        1  hey @user - a $14000 ivanka bracelet? do you f...  32073\n",
       "...      ...                                                ...    ...\n",
       "17128      1  @user the uk governmentâs new #anti-semitism...  49091\n",
       "17148      1  we grew up fucked upð¤ its fucked upð¥ i'm...  49111\n",
       "17176      1     @user @user are the most racist pay ever!!!!!   49139\n",
       "17188      1  black professor demonizes, proposes nazi style...  49151\n",
       "17192      1  thought factory: left-right polarisation! #tru...  49155\n",
       "\n",
       "[848 rows x 3 columns]"
      ]
     },
     "execution_count": 34,
     "metadata": {},
     "output_type": "execute_result"
    }
   ],
   "source": [
    "result.loc[result[\"label\"]==1]"
   ]
  },
  {
   "cell_type": "code",
   "execution_count": 35,
   "id": "08a771f9",
   "metadata": {
    "execution": {
     "iopub.execute_input": "2022-01-06T06:14:01.995682Z",
     "iopub.status.busy": "2022-01-06T06:14:01.994996Z",
     "iopub.status.idle": "2022-01-06T06:14:01.999554Z",
     "shell.execute_reply": "2022-01-06T06:14:02.000111Z",
     "shell.execute_reply.started": "2022-01-05T12:37:25.799181Z"
    },
    "papermill": {
     "duration": 0.712239,
     "end_time": "2022-01-06T06:14:02.000342",
     "exception": false,
     "start_time": "2022-01-06T06:14:01.288103",
     "status": "completed"
    },
    "tags": []
   },
   "outputs": [
    {
     "name": "stdout",
     "output_type": "stream",
     "text": [
      " @user thrilled to be working with @user over the coming months - more announcements very soon #2faceddancecompany \n"
     ]
    }
   ],
   "source": [
    "print(test['tweet'][75])"
   ]
  },
  {
   "cell_type": "code",
   "execution_count": 36,
   "id": "1a19f773",
   "metadata": {
    "execution": {
     "iopub.execute_input": "2022-01-06T06:14:03.411287Z",
     "iopub.status.busy": "2022-01-06T06:14:03.410551Z",
     "iopub.status.idle": "2022-01-06T06:14:03.413177Z",
     "shell.execute_reply": "2022-01-06T06:14:03.413770Z",
     "shell.execute_reply.started": "2022-01-05T12:37:25.805455Z"
    },
    "papermill": {
     "duration": 0.7111,
     "end_time": "2022-01-06T06:14:03.413999",
     "exception": false,
     "start_time": "2022-01-06T06:14:02.702899",
     "status": "completed"
    },
    "tags": []
   },
   "outputs": [],
   "source": [
    "import re\n",
    "import string\n",
    "from nltk.corpus import stopwords\n",
    "from keras.preprocessing import sequence\n",
    "stopword=set(stopwords.words('english'))\n",
    "stemmer = nltk.SnowballStemmer(\"english\")"
   ]
  },
  {
   "cell_type": "code",
   "execution_count": 37,
   "id": "291e9f73",
   "metadata": {
    "execution": {
     "iopub.execute_input": "2022-01-06T06:14:04.831222Z",
     "iopub.status.busy": "2022-01-06T06:14:04.830498Z",
     "iopub.status.idle": "2022-01-06T06:14:06.517602Z",
     "shell.execute_reply": "2022-01-06T06:14:06.518134Z",
     "shell.execute_reply.started": "2022-01-05T12:49:52.111243Z"
    },
    "papermill": {
     "duration": 2.39314,
     "end_time": "2022-01-06T06:14:06.518331",
     "exception": false,
     "start_time": "2022-01-06T06:14:04.125191",
     "status": "completed"
    },
    "tags": []
   },
   "outputs": [
    {
     "name": "stdout",
     "output_type": "stream",
     "text": [
      "I love my country\n",
      "i love my country\n",
      "['love countri']\n",
      "[[145]]\n",
      "predi [[0.5565662  0.44343385]]\n",
      "no hate\n"
     ]
    }
   ],
   "source": [
    "test_data = 'I love my country'\n",
    "def clean_text(text):\n",
    "    print(text)\n",
    "    text = str(text).lower()\n",
    "    text = re.sub('\\[.*?\\]', '', text)\n",
    "    text = re.sub('https?://\\S+|www\\.\\S+', '', text)\n",
    "    text = re.sub('<.*?>+', '', text)\n",
    "    text = re.sub('[%s]' % re.escape(string.punctuation), '', text)\n",
    "    text = re.sub('\\n', '', text)\n",
    "    text = re.sub('\\w*\\d\\w*', '', text)\n",
    "    print(text)\n",
    "    text = [word for word in text.split(' ') if word not in stopword]\n",
    "    text=\" \".join(text)\n",
    "    text = [stemmer.stem(word) for word in text.split(' ')]\n",
    "    text=\" \".join(text)\n",
    "    return text\n",
    "test_data=[clean_text(test_data)]\n",
    "print(test_data)\n",
    "seq = tokenizer.texts_to_sequences(test_data)\n",
    "padded = sequence.pad_sequences(seq, maxlen=300)\n",
    "print(seq)\n",
    "predi = model.predict(padded)\n",
    "print(\"predi\", predi)\n",
    "if predi[0][1]<0.5:\n",
    "    print(\"no hate\")\n",
    "else:\n",
    "    print(\"hate and abusive\")"
   ]
  },
  {
   "cell_type": "code",
   "execution_count": null,
   "id": "b9d38de1",
   "metadata": {
    "papermill": {
     "duration": 0.699338,
     "end_time": "2022-01-06T06:14:07.920239",
     "exception": false,
     "start_time": "2022-01-06T06:14:07.220901",
     "status": "completed"
    },
    "tags": []
   },
   "outputs": [],
   "source": []
  },
  {
   "cell_type": "code",
   "execution_count": null,
   "id": "b821be73",
   "metadata": {
    "papermill": {
     "duration": 0.759061,
     "end_time": "2022-01-06T06:14:09.396652",
     "exception": false,
     "start_time": "2022-01-06T06:14:08.637591",
     "status": "completed"
    },
    "tags": []
   },
   "outputs": [],
   "source": []
  }
 ],
 "metadata": {
  "kernelspec": {
   "display_name": "Python 3",
   "language": "python",
   "name": "python3"
  },
  "language_info": {
   "codemirror_mode": {
    "name": "ipython",
    "version": 3
   },
   "file_extension": ".py",
   "mimetype": "text/x-python",
   "name": "python",
   "nbconvert_exporter": "python",
   "pygments_lexer": "ipython3",
   "version": "3.7.12"
  },
  "papermill": {
   "default_parameters": {},
   "duration": 521.051777,
   "end_time": "2022-01-06T06:14:13.685038",
   "environment_variables": {},
   "exception": null,
   "input_path": "__notebook__.ipynb",
   "output_path": "__notebook__.ipynb",
   "parameters": {},
   "start_time": "2022-01-06T06:05:32.633261",
   "version": "2.3.3"
  }
 },
 "nbformat": 4,
 "nbformat_minor": 5
}
